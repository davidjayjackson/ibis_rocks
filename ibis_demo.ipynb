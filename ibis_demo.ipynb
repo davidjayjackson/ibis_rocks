{
 "cells": [
  {
   "cell_type": "code",
   "execution_count": 1,
   "id": "d51b4df0-c231-45fb-a0f8-adf61590fe17",
   "metadata": {},
   "outputs": [],
   "source": [
    "import ibis"
   ]
  },
  {
   "cell_type": "code",
   "execution_count": 2,
   "id": "c7abbd38-ed62-4092-82fb-f9f280a5a236",
   "metadata": {},
   "outputs": [
    {
     "data": {
      "text/html": [
       "<pre style=\"white-space:pre;overflow-x:auto;line-height:normal;font-family:Menlo,'DejaVu Sans Mono',consolas,'Courier New',monospace\">DatabaseTable: penguins.main.penguins\n",
       "  species           string\n",
       "  island            string\n",
       "  bill_length_mm    float64\n",
       "  bill_depth_mm     float64\n",
       "  flipper_length_mm int64\n",
       "  body_mass_g       int64\n",
       "  sex               string\n",
       "  year              int64\n",
       "</pre>\n"
      ],
      "text/plain": [
       "DatabaseTable: penguins.main.penguins\n",
       "  species           string\n",
       "  island            string\n",
       "  bill_length_mm    float64\n",
       "  bill_depth_mm     float64\n",
       "  flipper_length_mm int64\n",
       "  body_mass_g       int64\n",
       "  sex               string\n",
       "  year              int64"
      ]
     },
     "execution_count": 2,
     "metadata": {},
     "output_type": "execute_result"
    }
   ],
   "source": [
    "con = ibis.connect(\"duckdb://penguins.ddb\")\n",
    "con.create_table(\n",
    "    \"penguins\", ibis.examples.penguins.fetch().to_pyarrow(), overwrite=True\n",
    ")"
   ]
  },
  {
   "cell_type": "code",
   "execution_count": 5,
   "id": "4af959aa-4983-423c-b9a3-7ef547e442a9",
   "metadata": {},
   "outputs": [
    {
     "data": {
      "text/plain": [
       "['penguins']"
      ]
     },
     "execution_count": 5,
     "metadata": {},
     "output_type": "execute_result"
    }
   ],
   "source": [
    "con.list_tables()"
   ]
  },
  {
   "cell_type": "code",
   "execution_count": 6,
   "id": "32fda0bb-0984-47a7-bd6e-fd6c10d5794e",
   "metadata": {},
   "outputs": [
    {
     "data": {
      "text/html": [
       "<pre style=\"white-space:pre;overflow-x:auto;line-height:normal;font-family:Menlo,'DejaVu Sans Mono',consolas,'Courier New',monospace\">DatabaseTable: penguins\n",
       "  species           string\n",
       "  island            string\n",
       "  bill_length_mm    float64\n",
       "  bill_depth_mm     float64\n",
       "  flipper_length_mm int64\n",
       "  body_mass_g       int64\n",
       "  sex               string\n",
       "  year              int64\n",
       "</pre>\n"
      ],
      "text/plain": [
       "DatabaseTable: penguins\n",
       "  species           string\n",
       "  island            string\n",
       "  bill_length_mm    float64\n",
       "  bill_depth_mm     float64\n",
       "  flipper_length_mm int64\n",
       "  body_mass_g       int64\n",
       "  sex               string\n",
       "  year              int64"
      ]
     },
     "execution_count": 6,
     "metadata": {},
     "output_type": "execute_result"
    }
   ],
   "source": [
    "penguins = con.table(\"penguins\")\n",
    "penguins"
   ]
  },
  {
   "cell_type": "code",
   "execution_count": 9,
   "id": "46a3f341-b9ca-44d4-a926-fbb444fca2ff",
   "metadata": {},
   "outputs": [
    {
     "data": {
      "text/html": [
       "<div>\n",
       "<style scoped>\n",
       "    .dataframe tbody tr th:only-of-type {\n",
       "        vertical-align: middle;\n",
       "    }\n",
       "\n",
       "    .dataframe tbody tr th {\n",
       "        vertical-align: top;\n",
       "    }\n",
       "\n",
       "    .dataframe thead th {\n",
       "        text-align: right;\n",
       "    }\n",
       "</style>\n",
       "<table border=\"1\" class=\"dataframe\">\n",
       "  <thead>\n",
       "    <tr style=\"text-align: right;\">\n",
       "      <th></th>\n",
       "      <th>species</th>\n",
       "      <th>island</th>\n",
       "      <th>bill_length_mm</th>\n",
       "      <th>bill_depth_mm</th>\n",
       "      <th>flipper_length_mm</th>\n",
       "      <th>body_mass_g</th>\n",
       "      <th>sex</th>\n",
       "      <th>year</th>\n",
       "    </tr>\n",
       "  </thead>\n",
       "  <tbody>\n",
       "    <tr>\n",
       "      <th>0</th>\n",
       "      <td>Adelie</td>\n",
       "      <td>Torgersen</td>\n",
       "      <td>39.1</td>\n",
       "      <td>18.7</td>\n",
       "      <td>181.0</td>\n",
       "      <td>3750.0</td>\n",
       "      <td>male</td>\n",
       "      <td>2007</td>\n",
       "    </tr>\n",
       "    <tr>\n",
       "      <th>1</th>\n",
       "      <td>Adelie</td>\n",
       "      <td>Torgersen</td>\n",
       "      <td>39.5</td>\n",
       "      <td>17.4</td>\n",
       "      <td>186.0</td>\n",
       "      <td>3800.0</td>\n",
       "      <td>female</td>\n",
       "      <td>2007</td>\n",
       "    </tr>\n",
       "    <tr>\n",
       "      <th>2</th>\n",
       "      <td>Adelie</td>\n",
       "      <td>Torgersen</td>\n",
       "      <td>40.3</td>\n",
       "      <td>18.0</td>\n",
       "      <td>195.0</td>\n",
       "      <td>3250.0</td>\n",
       "      <td>female</td>\n",
       "      <td>2007</td>\n",
       "    </tr>\n",
       "    <tr>\n",
       "      <th>3</th>\n",
       "      <td>Adelie</td>\n",
       "      <td>Torgersen</td>\n",
       "      <td>NaN</td>\n",
       "      <td>NaN</td>\n",
       "      <td>NaN</td>\n",
       "      <td>NaN</td>\n",
       "      <td>None</td>\n",
       "      <td>2007</td>\n",
       "    </tr>\n",
       "    <tr>\n",
       "      <th>4</th>\n",
       "      <td>Adelie</td>\n",
       "      <td>Torgersen</td>\n",
       "      <td>36.7</td>\n",
       "      <td>19.3</td>\n",
       "      <td>193.0</td>\n",
       "      <td>3450.0</td>\n",
       "      <td>female</td>\n",
       "      <td>2007</td>\n",
       "    </tr>\n",
       "    <tr>\n",
       "      <th>...</th>\n",
       "      <td>...</td>\n",
       "      <td>...</td>\n",
       "      <td>...</td>\n",
       "      <td>...</td>\n",
       "      <td>...</td>\n",
       "      <td>...</td>\n",
       "      <td>...</td>\n",
       "      <td>...</td>\n",
       "    </tr>\n",
       "    <tr>\n",
       "      <th>339</th>\n",
       "      <td>Chinstrap</td>\n",
       "      <td>Dream</td>\n",
       "      <td>55.8</td>\n",
       "      <td>19.8</td>\n",
       "      <td>207.0</td>\n",
       "      <td>4000.0</td>\n",
       "      <td>male</td>\n",
       "      <td>2009</td>\n",
       "    </tr>\n",
       "    <tr>\n",
       "      <th>340</th>\n",
       "      <td>Chinstrap</td>\n",
       "      <td>Dream</td>\n",
       "      <td>43.5</td>\n",
       "      <td>18.1</td>\n",
       "      <td>202.0</td>\n",
       "      <td>3400.0</td>\n",
       "      <td>female</td>\n",
       "      <td>2009</td>\n",
       "    </tr>\n",
       "    <tr>\n",
       "      <th>341</th>\n",
       "      <td>Chinstrap</td>\n",
       "      <td>Dream</td>\n",
       "      <td>49.6</td>\n",
       "      <td>18.2</td>\n",
       "      <td>193.0</td>\n",
       "      <td>3775.0</td>\n",
       "      <td>male</td>\n",
       "      <td>2009</td>\n",
       "    </tr>\n",
       "    <tr>\n",
       "      <th>342</th>\n",
       "      <td>Chinstrap</td>\n",
       "      <td>Dream</td>\n",
       "      <td>50.8</td>\n",
       "      <td>19.0</td>\n",
       "      <td>210.0</td>\n",
       "      <td>4100.0</td>\n",
       "      <td>male</td>\n",
       "      <td>2009</td>\n",
       "    </tr>\n",
       "    <tr>\n",
       "      <th>343</th>\n",
       "      <td>Chinstrap</td>\n",
       "      <td>Dream</td>\n",
       "      <td>50.2</td>\n",
       "      <td>18.7</td>\n",
       "      <td>198.0</td>\n",
       "      <td>3775.0</td>\n",
       "      <td>female</td>\n",
       "      <td>2009</td>\n",
       "    </tr>\n",
       "  </tbody>\n",
       "</table>\n",
       "<p>344 rows × 8 columns</p>\n",
       "</div>"
      ],
      "text/plain": [
       "       species     island  bill_length_mm  bill_depth_mm  flipper_length_mm  \\\n",
       "0       Adelie  Torgersen            39.1           18.7              181.0   \n",
       "1       Adelie  Torgersen            39.5           17.4              186.0   \n",
       "2       Adelie  Torgersen            40.3           18.0              195.0   \n",
       "3       Adelie  Torgersen             NaN            NaN                NaN   \n",
       "4       Adelie  Torgersen            36.7           19.3              193.0   \n",
       "..         ...        ...             ...            ...                ...   \n",
       "339  Chinstrap      Dream            55.8           19.8              207.0   \n",
       "340  Chinstrap      Dream            43.5           18.1              202.0   \n",
       "341  Chinstrap      Dream            49.6           18.2              193.0   \n",
       "342  Chinstrap      Dream            50.8           19.0              210.0   \n",
       "343  Chinstrap      Dream            50.2           18.7              198.0   \n",
       "\n",
       "     body_mass_g     sex  year  \n",
       "0         3750.0    male  2007  \n",
       "1         3800.0  female  2007  \n",
       "2         3250.0  female  2007  \n",
       "3            NaN    None  2007  \n",
       "4         3450.0  female  2007  \n",
       "..           ...     ...   ...  \n",
       "339       4000.0    male  2009  \n",
       "340       3400.0  female  2009  \n",
       "341       3775.0    male  2009  \n",
       "342       4100.0    male  2009  \n",
       "343       3775.0  female  2009  \n",
       "\n",
       "[344 rows x 8 columns]"
      ]
     },
     "execution_count": 9,
     "metadata": {},
     "output_type": "execute_result"
    }
   ],
   "source": [
    "penguins.to_pandas()"
   ]
  },
  {
   "cell_type": "code",
   "execution_count": 10,
   "id": "41d8a918-6a64-4954-b7c0-60fbdc0357d1",
   "metadata": {},
   "outputs": [
    {
     "data": {
      "text/html": [
       "<pre style=\"white-space:pre;overflow-x:auto;line-height:normal;font-family:Menlo,'DejaVu Sans Mono',consolas,'Courier New',monospace\">┏━━━━━━━━━┳━━━━━━━━━━━┳━━━━━━━━━━━━━━━━┳━━━━━━━━━━━━━━━┳━━━━━━━━━━━━━━━━━━━┳━━━━━━━━━━━━━┳━━━━━━━━┳━━━━━━━┓\n",
       "┃<span style=\"font-weight: bold\"> species </span>┃<span style=\"font-weight: bold\"> island    </span>┃<span style=\"font-weight: bold\"> bill_length_mm </span>┃<span style=\"font-weight: bold\"> bill_depth_mm </span>┃<span style=\"font-weight: bold\"> flipper_length_mm </span>┃<span style=\"font-weight: bold\"> body_mass_g </span>┃<span style=\"font-weight: bold\"> sex    </span>┃<span style=\"font-weight: bold\"> year  </span>┃\n",
       "┡━━━━━━━━━╇━━━━━━━━━━━╇━━━━━━━━━━━━━━━━╇━━━━━━━━━━━━━━━╇━━━━━━━━━━━━━━━━━━━╇━━━━━━━━━━━━━╇━━━━━━━━╇━━━━━━━┩\n",
       "│ <span style=\"color: #7f7f7f; text-decoration-color: #7f7f7f\">string</span>  │ <span style=\"color: #7f7f7f; text-decoration-color: #7f7f7f\">string</span>    │ <span style=\"color: #7f7f7f; text-decoration-color: #7f7f7f\">float64</span>        │ <span style=\"color: #7f7f7f; text-decoration-color: #7f7f7f\">float64</span>       │ <span style=\"color: #7f7f7f; text-decoration-color: #7f7f7f\">int64</span>             │ <span style=\"color: #7f7f7f; text-decoration-color: #7f7f7f\">int64</span>       │ <span style=\"color: #7f7f7f; text-decoration-color: #7f7f7f\">string</span> │ <span style=\"color: #7f7f7f; text-decoration-color: #7f7f7f\">int64</span> │\n",
       "├─────────┼───────────┼────────────────┼───────────────┼───────────────────┼─────────────┼────────┼───────┤\n",
       "│ <span style=\"color: #008000; text-decoration-color: #008000\">Adelie </span> │ <span style=\"color: #008000; text-decoration-color: #008000\">Torgersen</span> │           <span style=\"color: #008080; text-decoration-color: #008080; font-weight: bold\">39.1</span> │          <span style=\"color: #008080; text-decoration-color: #008080; font-weight: bold\">18.7</span> │               <span style=\"color: #008080; text-decoration-color: #008080; font-weight: bold\">181</span> │        <span style=\"color: #008080; text-decoration-color: #008080; font-weight: bold\">3750</span> │ <span style=\"color: #008000; text-decoration-color: #008000\">male  </span> │  <span style=\"color: #008080; text-decoration-color: #008080; font-weight: bold\">2007</span> │\n",
       "│ <span style=\"color: #008000; text-decoration-color: #008000\">Adelie </span> │ <span style=\"color: #008000; text-decoration-color: #008000\">Torgersen</span> │           <span style=\"color: #008080; text-decoration-color: #008080; font-weight: bold\">39.5</span> │          <span style=\"color: #008080; text-decoration-color: #008080; font-weight: bold\">17.4</span> │               <span style=\"color: #008080; text-decoration-color: #008080; font-weight: bold\">186</span> │        <span style=\"color: #008080; text-decoration-color: #008080; font-weight: bold\">3800</span> │ <span style=\"color: #008000; text-decoration-color: #008000\">female</span> │  <span style=\"color: #008080; text-decoration-color: #008080; font-weight: bold\">2007</span> │\n",
       "│ <span style=\"color: #008000; text-decoration-color: #008000\">Adelie </span> │ <span style=\"color: #008000; text-decoration-color: #008000\">Torgersen</span> │           <span style=\"color: #008080; text-decoration-color: #008080; font-weight: bold\">40.3</span> │          <span style=\"color: #008080; text-decoration-color: #008080; font-weight: bold\">18.0</span> │               <span style=\"color: #008080; text-decoration-color: #008080; font-weight: bold\">195</span> │        <span style=\"color: #008080; text-decoration-color: #008080; font-weight: bold\">3250</span> │ <span style=\"color: #008000; text-decoration-color: #008000\">female</span> │  <span style=\"color: #008080; text-decoration-color: #008080; font-weight: bold\">2007</span> │\n",
       "│ <span style=\"color: #008000; text-decoration-color: #008000\">Adelie </span> │ <span style=\"color: #008000; text-decoration-color: #008000\">Torgersen</span> │           <span style=\"color: #7f7f7f; text-decoration-color: #7f7f7f\">NULL</span> │          <span style=\"color: #7f7f7f; text-decoration-color: #7f7f7f\">NULL</span> │              <span style=\"color: #7f7f7f; text-decoration-color: #7f7f7f\">NULL</span> │        <span style=\"color: #7f7f7f; text-decoration-color: #7f7f7f\">NULL</span> │ <span style=\"color: #7f7f7f; text-decoration-color: #7f7f7f\">NULL</span>   │  <span style=\"color: #008080; text-decoration-color: #008080; font-weight: bold\">2007</span> │\n",
       "│ <span style=\"color: #008000; text-decoration-color: #008000\">Adelie </span> │ <span style=\"color: #008000; text-decoration-color: #008000\">Torgersen</span> │           <span style=\"color: #008080; text-decoration-color: #008080; font-weight: bold\">36.7</span> │          <span style=\"color: #008080; text-decoration-color: #008080; font-weight: bold\">19.3</span> │               <span style=\"color: #008080; text-decoration-color: #008080; font-weight: bold\">193</span> │        <span style=\"color: #008080; text-decoration-color: #008080; font-weight: bold\">3450</span> │ <span style=\"color: #008000; text-decoration-color: #008000\">female</span> │  <span style=\"color: #008080; text-decoration-color: #008080; font-weight: bold\">2007</span> │\n",
       "└─────────┴───────────┴────────────────┴───────────────┴───────────────────┴─────────────┴────────┴───────┘\n",
       "</pre>\n"
      ],
      "text/plain": [
       "┏━━━━━━━━━┳━━━━━━━━━━━┳━━━━━━━━━━━━━━━━┳━━━━━━━━━━━━━━━┳━━━━━━━━━━━━━━━━━━━┳━━━━━━━━━━━━━┳━━━━━━━━┳━━━━━━━┓\n",
       "┃\u001b[1m \u001b[0m\u001b[1mspecies\u001b[0m\u001b[1m \u001b[0m┃\u001b[1m \u001b[0m\u001b[1misland\u001b[0m\u001b[1m   \u001b[0m\u001b[1m \u001b[0m┃\u001b[1m \u001b[0m\u001b[1mbill_length_mm\u001b[0m\u001b[1m \u001b[0m┃\u001b[1m \u001b[0m\u001b[1mbill_depth_mm\u001b[0m\u001b[1m \u001b[0m┃\u001b[1m \u001b[0m\u001b[1mflipper_length_mm\u001b[0m\u001b[1m \u001b[0m┃\u001b[1m \u001b[0m\u001b[1mbody_mass_g\u001b[0m\u001b[1m \u001b[0m┃\u001b[1m \u001b[0m\u001b[1msex\u001b[0m\u001b[1m   \u001b[0m\u001b[1m \u001b[0m┃\u001b[1m \u001b[0m\u001b[1myear\u001b[0m\u001b[1m \u001b[0m\u001b[1m \u001b[0m┃\n",
       "┡━━━━━━━━━╇━━━━━━━━━━━╇━━━━━━━━━━━━━━━━╇━━━━━━━━━━━━━━━╇━━━━━━━━━━━━━━━━━━━╇━━━━━━━━━━━━━╇━━━━━━━━╇━━━━━━━┩\n",
       "│ \u001b[2mstring\u001b[0m  │ \u001b[2mstring\u001b[0m    │ \u001b[2mfloat64\u001b[0m        │ \u001b[2mfloat64\u001b[0m       │ \u001b[2mint64\u001b[0m             │ \u001b[2mint64\u001b[0m       │ \u001b[2mstring\u001b[0m │ \u001b[2mint64\u001b[0m │\n",
       "├─────────┼───────────┼────────────────┼───────────────┼───────────────────┼─────────────┼────────┼───────┤\n",
       "│ \u001b[32mAdelie \u001b[0m │ \u001b[32mTorgersen\u001b[0m │           \u001b[1;36m39.1\u001b[0m │          \u001b[1;36m18.7\u001b[0m │               \u001b[1;36m181\u001b[0m │        \u001b[1;36m3750\u001b[0m │ \u001b[32mmale  \u001b[0m │  \u001b[1;36m2007\u001b[0m │\n",
       "│ \u001b[32mAdelie \u001b[0m │ \u001b[32mTorgersen\u001b[0m │           \u001b[1;36m39.5\u001b[0m │          \u001b[1;36m17.4\u001b[0m │               \u001b[1;36m186\u001b[0m │        \u001b[1;36m3800\u001b[0m │ \u001b[32mfemale\u001b[0m │  \u001b[1;36m2007\u001b[0m │\n",
       "│ \u001b[32mAdelie \u001b[0m │ \u001b[32mTorgersen\u001b[0m │           \u001b[1;36m40.3\u001b[0m │          \u001b[1;36m18.0\u001b[0m │               \u001b[1;36m195\u001b[0m │        \u001b[1;36m3250\u001b[0m │ \u001b[32mfemale\u001b[0m │  \u001b[1;36m2007\u001b[0m │\n",
       "│ \u001b[32mAdelie \u001b[0m │ \u001b[32mTorgersen\u001b[0m │           \u001b[2mNULL\u001b[0m │          \u001b[2mNULL\u001b[0m │              \u001b[2mNULL\u001b[0m │        \u001b[2mNULL\u001b[0m │ \u001b[2mNULL\u001b[0m   │  \u001b[1;36m2007\u001b[0m │\n",
       "│ \u001b[32mAdelie \u001b[0m │ \u001b[32mTorgersen\u001b[0m │           \u001b[1;36m36.7\u001b[0m │          \u001b[1;36m19.3\u001b[0m │               \u001b[1;36m193\u001b[0m │        \u001b[1;36m3450\u001b[0m │ \u001b[32mfemale\u001b[0m │  \u001b[1;36m2007\u001b[0m │\n",
       "└─────────┴───────────┴────────────────┴───────────────┴───────────────────┴─────────────┴────────┴───────┘"
      ]
     },
     "execution_count": 10,
     "metadata": {},
     "output_type": "execute_result"
    }
   ],
   "source": [
    "ibis.options.interactive = True\n",
    "penguins.head()"
   ]
  },
  {
   "cell_type": "code",
   "execution_count": null,
   "id": "124eb747-616d-412d-bc95-4a0e54a63e31",
   "metadata": {},
   "outputs": [],
   "source": []
  }
 ],
 "metadata": {
  "kernelspec": {
   "display_name": "Python 3 (ipykernel)",
   "language": "python",
   "name": "python3"
  },
  "language_info": {
   "codemirror_mode": {
    "name": "ipython",
    "version": 3
   },
   "file_extension": ".py",
   "mimetype": "text/x-python",
   "name": "python",
   "nbconvert_exporter": "python",
   "pygments_lexer": "ipython3",
   "version": "3.12.3"
  }
 },
 "nbformat": 4,
 "nbformat_minor": 5
}
